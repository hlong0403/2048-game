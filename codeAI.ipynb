{
  "nbformat": 4,
  "nbformat_minor": 0,
  "metadata": {
    "colab": {
      "provenance": [],
      "gpuType": "T4",
      "authorship_tag": "ABX9TyMSvkHfw1SQp6cKmc420P++",
      "include_colab_link": true
    },
    "kernelspec": {
      "name": "python3",
      "display_name": "Python 3"
    },
    "language_info": {
      "name": "python"
    },
    "accelerator": "GPU"
  },
  "cells": [
    {
      "cell_type": "markdown",
      "metadata": {
        "id": "view-in-github",
        "colab_type": "text"
      },
      "source": [
        "<a href=\"https://colab.research.google.com/github/hlong0403/2048-game/blob/main/codeAI.ipynb\" target=\"_parent\"><img src=\"https://colab.research.google.com/assets/colab-badge.svg\" alt=\"Open In Colab\"/></a>"
      ]
    },
    {
      "cell_type": "code",
      "source": [
        "!pip install ultralytics"
      ],
      "metadata": {
        "id": "Vq_xZgeNT4t4"
      },
      "execution_count": null,
      "outputs": []
    },
    {
      "cell_type": "code",
      "source": [
        "import torch"
      ],
      "metadata": {
        "id": "Yfwv4F-5T7eU"
      },
      "execution_count": null,
      "outputs": []
    },
    {
      "cell_type": "code",
      "source": [
        "!wget https://github.com/ultralytics/assets/releases/download/v0.0.0/yolov8x.pt!wget https://github.com/ultralytics/assets/releases/download/v0.0.0/yolov8x.pt"
      ],
      "metadata": {
        "id": "zWtILCs2T-dZ"
      },
      "execution_count": null,
      "outputs": []
    },
    {
      "cell_type": "code",
      "source": [
        "from google.colab import drive\n",
        "drive.mount('/content/drive')"
      ],
      "metadata": {
        "id": "uG7Zw6wEUAQ5"
      },
      "execution_count": null,
      "outputs": []
    },
    {
      "cell_type": "code",
      "source": [
        "%cd /content/drive/MyDrive/AI_ver3"
      ],
      "metadata": {
        "id": "rse0CVmCUCDH"
      },
      "execution_count": null,
      "outputs": []
    },
    {
      "cell_type": "code",
      "source": [
        "!unzip data.zip"
      ],
      "metadata": {
        "id": "yZQNL2rjUDtk"
      },
      "execution_count": null,
      "outputs": []
    },
    {
      "cell_type": "code",
      "source": [
        "from ultralytics import YOLO"
      ],
      "metadata": {
        "id": "r79XXBncUFoG"
      },
      "execution_count": null,
      "outputs": []
    },
    {
      "cell_type": "code",
      "source": [
        "!yolo task=detect mode=train  epochs=200 data=/content/drive/MyDrive/AI_ver4/data.yaml  model=yolov8x.pt imgsz=640"
      ],
      "metadata": {
        "id": "fsK32SRvUOLV"
      },
      "execution_count": null,
      "outputs": []
    },
    {
      "cell_type": "code",
      "source": [
        "!yolo task=detect mode=train resume model=\"/content/drive/MyDrive/AI_ver4/runs/detect/train/weights/last.pt\" data='/content/drive/MyDrive/AI_ver3/data.yaml' epochs=200 imgsz=640"
      ],
      "metadata": {
        "id": "LTkx-z3GUVvV"
      },
      "execution_count": null,
      "outputs": []
    },
    {
      "cell_type": "code",
      "source": [
        "model = YOLO(\"/content/drive/MyDrive/yolov8/runs/detect/train/weights/best.pt\")\n",
        "model.predict('https://photo-cms-giaoducthoidai.epicdn.me/Uploaded/2023/mfnms/2023_12_09/cn-50-chuan-di-in-26-9374.jpg',save=True,show=True,conf=0.7)"
      ],
      "metadata": {
        "id": "ovNI_rzUUbTM"
      },
      "execution_count": null,
      "outputs": []
    }
  ]
}